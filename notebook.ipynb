{
 "cells": [
  {
   "cell_type": "code",
   "execution_count": 1,
   "id": "f46448e5-d3f1-497d-bd39-88cbc7359f9c",
   "metadata": {},
   "outputs": [],
   "source": [
    "from module1 import App"
   ]
  },
  {
   "cell_type": "code",
   "execution_count": 2,
   "id": "32f225bc-bbc8-4f83-a478-8a389e8ebe75",
   "metadata": {},
   "outputs": [],
   "source": [
    "app = App()"
   ]
  },
  {
   "cell_type": "code",
   "execution_count": null,
   "id": "a80f2860-f9e8-49f7-9412-2f9ecd3b0a1e",
   "metadata": {},
   "outputs": [
    {
     "name": "stdout",
     "output_type": "stream",
     "text": [
      "\u001b[H\u001b[2JBasic Sets Operation\n",
      "\n",
      "Select type of generation\n",
      "A. Automatic Generation\n",
      "B. Manual Generation\n",
      "C. Exit\n",
      "\n"
     ]
    }
   ],
   "source": [
    "app.run()"
   ]
  },
  {
   "cell_type": "code",
   "execution_count": null,
   "id": "2a543f39-561e-40b5-a0c3-60d830f6d30f",
   "metadata": {},
   "outputs": [],
   "source": []
  }
 ],
 "metadata": {
  "kernelspec": {
   "display_name": "Python 3 (ipykernel)",
   "language": "python",
   "name": "python3"
  },
  "language_info": {
   "codemirror_mode": {
    "name": "ipython",
    "version": 3
   },
   "file_extension": ".py",
   "mimetype": "text/x-python",
   "name": "python",
   "nbconvert_exporter": "python",
   "pygments_lexer": "ipython3",
   "version": "3.10.12"
  }
 },
 "nbformat": 4,
 "nbformat_minor": 5
}
